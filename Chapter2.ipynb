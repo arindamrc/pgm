{
 "cells": [
  {
   "cell_type": "markdown",
   "id": "071193e8",
   "metadata": {},
   "source": [
    "# Chapter 2: Foundations"
   ]
  },
  {
   "cell_type": "markdown",
   "id": "a7869296",
   "metadata": {},
   "source": [
    "### Exercise 2.1\n",
    "\n",
    "a. Prove that $P(\\emptyset) = 0$\n",
    "\n",
    "From definition 2.1 we know that\n",
    "\n",
    "$$\n",
    "\\text{If } \\alpha, \\beta \\in \\mathcal{S} \\text{ and } \\alpha \\cap \\beta = \\emptyset, \\text{ then } P(\\alpha \\cup \\beta) = P(\\alpha) + P(\\beta)\n",
    "$$\n",
    "\n",
    "Taking $\\alpha = \\Omega$ and $\\beta = \\emptyset$ and combining with the facts that $P(\\Omega) = 1$, $\\Omega \\cap \\emptyset = \\emptyset$ (nothing intersects with $\\emptyset$), and $\\Omega \\cup \\emptyset = \\Omega$ ($\\Omega$ is the set of all possible outcomes) we have\n",
    "\n",
    "$$\n",
    "P(\\Omega \\cup \\emptyset) = P(\\Omega) + P(\\emptyset), \\\\\n",
    "\\Rightarrow P(\\Omega) = P(\\Omega) + P(\\emptyset), \\\\\n",
    "\\Rightarrow P(\\emptyset) = 0.\n",
    "$$\n",
    "\n",
    "\n",
    "\n",
    "b. Prove that if $\\alpha \\subseteq \\beta$, then $P(\\alpha) \\leq P(\\beta)$.\n",
    "\n",
    "According to the frequentist interpretation of probabilities, \n",
    "\n",
    "$$\n",
    "P(\\alpha) = \\frac{|\\alpha|}{|\\mathcal{S}|}\n",
    "$$\n",
    "\n",
    "Thus, if $\\alpha \\subseteq \\beta$, then,\n",
    "$$\n",
    "|\\alpha| \\leq |\\beta|, \\\\\n",
    "\\Rightarrow \\frac{|\\alpha|}{|\\mathcal{S}|} \\leq \\frac{|\\beta|}{|\\mathcal{S}|}, \\\\\n",
    "\\Rightarrow P(alpha) \\leq P(beta).\n",
    "$$\n",
    "\n",
    "\n",
    "c. Prove that $P(\\alpha \\cup \\beta) = P(\\alpha) + P(\\beta) - P(\\alpha \\cap \\beta)$.\n",
    "\n",
    "We know that $P(\\alpha \\cup \\beta) = P(\\alpha) + P(\\beta)$ when $\\alpha$ and $\\beta$ are disjoint sets with $\\alpha \\cap \\beta = \\emptyset$.\n",
    "\n",
    "Expressing $\\alpha \\cup \\beta$ as the union of disjoint sets:\n",
    "$$\n",
    "\\alpha \\cup \\beta = \\alpha \\cup (\\beta \\cap \\overline{\\alpha}), \\\\\n",
    "\\Rightarrow P(\\alpha \\cup \\beta) = P(\\alpha) + P(\\beta \\cap \\overline{\\alpha}).\n",
    "$$\n",
    "Also expressing $\\beta$ as the union of disjoint sets:\n",
    "$$\n",
    "\\beta = (\\alpha \\cap \\beta) \\cup (\\beta \\cap \\overline{\\alpha}), \\\\\n",
    "\\Rightarrow P(\\beta) = P(\\alpha \\cap \\beta) + P(\\beta \\cap \\overline{\\alpha}), \\text{ or} \\\\\n",
    "P(\\beta \\cap \\overline{\\alpha}) = P(\\beta) - P(\\alpha \\cap \\beta).\n",
    "$$\n",
    "Substituting the value of $P(\\beta \\cap \\overline{\\alpha})$ into the first equation, we have,\n",
    "$$\n",
    "P(\\alpha \\cup \\beta) = P(\\alpha) + P(\\beta \\cap \\overline{\\alpha}), \\\\\n",
    "\\Rightarrow P(\\alpha \\cup \\beta) = P(\\alpha) + P(\\beta) - P(\\alpha \\cap \\beta).\n",
    "$$"
   ]
  },
  {
   "cell_type": "code",
   "execution_count": null,
   "id": "0cb49c60",
   "metadata": {},
   "outputs": [],
   "source": []
  }
 ],
 "metadata": {
  "kernelspec": {
   "display_name": "Python 3 (ipykernel)",
   "language": "python",
   "name": "python3"
  },
  "language_info": {
   "codemirror_mode": {
    "name": "ipython",
    "version": 3
   },
   "file_extension": ".py",
   "mimetype": "text/x-python",
   "name": "python",
   "nbconvert_exporter": "python",
   "pygments_lexer": "ipython3",
   "version": "3.7.12"
  }
 },
 "nbformat": 4,
 "nbformat_minor": 5
}
