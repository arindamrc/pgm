{
 "cells": [
  {
   "cell_type": "markdown",
   "id": "3455ad57",
   "metadata": {},
   "source": [
    "$\\newcommand\\indep{\\perp}$\n",
    "$\\newcommand\\and{\\cap}$\n",
    "$\\newcommand\\or{\\cup}$\n",
    "$\\newcommand\\implies{\\Rightarrow}$"
   ]
  },
  {
   "cell_type": "markdown",
   "id": "f2427346",
   "metadata": {},
   "source": [
    "# Chapter 2: Foundations"
   ]
  },
  {
   "cell_type": "markdown",
   "id": "67162c61",
   "metadata": {},
   "source": [
    "### Exercise 2.1\n",
    "\n",
    "a. Prove that $P(\\emptyset) = 0$\n",
    "\n",
    "From definition 2.1 we know that\n",
    "\n",
    "$$\n",
    "\\text{If } \\alpha, \\beta \\in \\mathcal{S} \\text{ and } \\alpha \\and \\beta = \\emptyset, \\text{ then } P(\\alpha \\or \\beta) = P(\\alpha) + P(\\beta)\n",
    "$$\n",
    "\n",
    "Taking $\\alpha = \\Omega$ and $\\beta = \\emptyset$ and combining with the facts that $P(\\Omega) = 1$, $\\Omega \\and \\emptyset = \\emptyset$ (nothing intersects with $\\emptyset$), and $\\Omega \\or \\emptyset = \\Omega$ ($\\Omega$ is the set of all possible outcomes) we have\n",
    "\n",
    "$$\n",
    "P(\\Omega \\or \\emptyset) = P(\\Omega) + P(\\emptyset), \\\\\n",
    "\\implies P(\\Omega) = P(\\Omega) + P(\\emptyset), \\\\\n",
    "\\implies P(\\emptyset) = 0.\n",
    "$$\n",
    "\n",
    "\n",
    "\n",
    "b. Prove that if $\\alpha \\subseteq \\beta$, then $P(\\alpha) \\leq P(\\beta)$.\n",
    "\n",
    "According to the frequentist interpretation of probabilities, \n",
    "\n",
    "$$\n",
    "P(\\alpha) = \\frac{|\\alpha|}{|\\mathcal{S}|}\n",
    "$$\n",
    "\n",
    "Thus, if $\\alpha \\subseteq \\beta$, then,\n",
    "$$\n",
    "|\\alpha| \\leq |\\beta|, \\\\\n",
    "\\implies \\frac{|\\alpha|}{|\\mathcal{S}|} \\leq \\frac{|\\beta|}{|\\mathcal{S}|}, \\\\\n",
    "\\implies P(alpha) \\leq P(beta).\n",
    "$$\n",
    "\n",
    "\n",
    "c. Prove that $P(\\alpha \\or \\beta) = P(\\alpha) + P(\\beta) - P(\\alpha \\and \\beta)$.\n",
    "\n",
    "We know that $P(\\alpha \\or \\beta) = P(\\alpha) + P(\\beta)$ when $\\alpha$ and $\\beta$ are disjoint sets with $\\alpha \\and \\beta = \\emptyset$.\n",
    "\n",
    "Expressing $\\alpha \\or \\beta$ as the union of disjoint sets:\n",
    "$$\n",
    "\\alpha \\or \\beta = \\alpha \\or (\\beta \\and \\overline{\\alpha}), \\\\\n",
    "\\implies P(\\alpha \\or \\beta) = P(\\alpha) + P(\\beta \\and \\overline{\\alpha}).\n",
    "$$\n",
    "Also expressing $\\beta$ as the union of disjoint sets:\n",
    "$$\n",
    "\\beta = (\\alpha \\and \\beta) \\or (\\beta \\and \\overline{\\alpha}), \\\\\n",
    "\\implies P(\\beta) = P(\\alpha \\and \\beta) + P(\\beta \\and \\overline{\\alpha}), \\text{ or} \\\\\n",
    "P(\\beta \\and \\overline{\\alpha}) = P(\\beta) - P(\\alpha \\and \\beta).\n",
    "$$\n",
    "Substituting the value of $P(\\beta \\and \\overline{\\alpha})$ into the first equation, we have,\n",
    "$$\n",
    "P(\\alpha \\or \\beta) = P(\\alpha) + P(\\beta \\and \\overline{\\alpha}), \\\\\n",
    "\\implies P(\\alpha \\or \\beta) = P(\\alpha) + P(\\beta) - P(\\alpha \\and \\beta).\n",
    "$$"
   ]
  },
  {
   "cell_type": "markdown",
   "id": "77060283",
   "metadata": {},
   "source": [
    "### Exercise 2.2\n",
    "\n",
    "a. Show that for binary random variables $X$, $Y$ , the event-level independence $(x^0 \\indep y^0)$ implies random variable independence $(X \\indep Y )$.\n",
    "\n",
    "As per the definition of independence, $\\alpha \\indep \\beta$ iff $P(\\alpha \\and \\beta) = P(\\alpha)(\\beta)$. So, \n",
    "$$\n",
    "(x^0 \\indep y^0) \\implies P(x^0 \\and y^0) = P(x^0)(y^0).\n",
    "$$\n",
    "\n",
    "Consider,\n",
    "\n",
    "$$\n",
    "P()\n",
    "$$\n",
    "\n",
    "b. Show a counterexample for nonbinary variables.\n",
    "\n",
    "c. Is it the case that, for a binary-valued variable $Z$, we have that $(X \\indep Y | z^0)$ implies $(X \\indep Y | Z)$ ?"
   ]
  },
  {
   "cell_type": "code",
   "execution_count": null,
   "id": "867e5cac",
   "metadata": {},
   "outputs": [],
   "source": []
  }
 ],
 "metadata": {
  "kernelspec": {
   "display_name": "Python 3 (ipykernel)",
   "language": "python",
   "name": "python3"
  },
  "language_info": {
   "codemirror_mode": {
    "name": "ipython",
    "version": 3
   },
   "file_extension": ".py",
   "mimetype": "text/x-python",
   "name": "python",
   "nbconvert_exporter": "python",
   "pygments_lexer": "ipython3",
   "version": "3.7.12"
  }
 },
 "nbformat": 4,
 "nbformat_minor": 5
}
